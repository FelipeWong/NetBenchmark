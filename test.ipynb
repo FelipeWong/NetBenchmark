{
 "cells": [
  {
   "cell_type": "markdown",
   "source": [
    "# Session 1 - Load data\n",
    "Using dataset base class to load different datasets from the data directory"
   ],
   "metadata": {
    "collapsed": false
   }
  },
  {
   "cell_type": "code",
   "execution_count": 14,
   "outputs": [
    {
     "name": "stdout",
     "output_type": "stream",
     "text": [
      "{'Network': <2708x2708 sparse array of type '<class 'numpy.intc'>'\n",
      "\twith 10556 stored elements in Compressed Sparse Column format>, 'Label': array([3, 4, 4, ..., 3, 3, 3], dtype=int64), 'Attributes': <2708x1433 sparse matrix of type '<class 'numpy.float32'>'\n",
      "\twith 49216 stored elements in Compressed Sparse Column format>}\n",
      "{'__header__': b'MATLAB 5.0 MAT-file, Platform: MACI64, Created on: Wed Sep 27 22:21:28 2017', '__version__': '1.0', '__globals__': [], 'Attributes': <7564x12047 sparse matrix of type '<class 'numpy.float64'>'\n",
      "\twith 182517 stored elements in Compressed Sparse Column format>, 'Label': array([[8],\n",
      "       [2],\n",
      "       [7],\n",
      "       ...,\n",
      "       [3],\n",
      "       [6],\n",
      "       [4]], dtype=uint8), 'Network': <7564x7564 sparse matrix of type '<class 'numpy.float64'>'\n",
      "\twith 486294 stored elements in Compressed Sparse Column format>}\n",
      "{'__header__': b'MATLAB 5.0 MAT-file, Platform: MACI64, Created on: Tue Oct 17 16:57:18 2017', '__version__': '1.0', '__globals__': [], 'Attributes': <5196x8189 sparse matrix of type '<class 'numpy.float64'>'\n",
      "\twith 369435 stored elements in Compressed Sparse Column format>, 'Label': array([[6],\n",
      "       [2],\n",
      "       [2],\n",
      "       ...,\n",
      "       [4],\n",
      "       [4],\n",
      "       [4]], dtype=uint8), 'Network': <5196x5196 sparse matrix of type '<class 'numpy.float64'>'\n",
      "\twith 343486 stored elements in Compressed Sparse Column format>}\n",
      "{'Network': <3327x3327 sparse array of type '<class 'numpy.intc'>'\n",
      "\twith 9228 stored elements in Compressed Sparse Column format>, 'Label': array([3, 1, 5, ..., 3, 1, 5], dtype=int64), 'Attributes': <3327x3703 sparse matrix of type '<class 'numpy.float64'>'\n",
      "\twith 105165 stored elements in Compressed Sparse Column format>}\n",
      "{'Network': <19717x19717 sparse array of type '<class 'numpy.intc'>'\n",
      "\twith 88651 stored elements in Compressed Sparse Column format>, 'Label': array([1, 1, 0, ..., 2, 0, 2], dtype=int64), 'Attributes': <19717x500 sparse matrix of type '<class 'numpy.float32'>'\n",
      "\twith 988031 stored elements in Compressed Sparse Column format>}\n",
      "{'Network': <2277x2277 sparse array of type '<class 'numpy.intc'>'\n",
      "\twith 62792 stored elements in Compressed Sparse Column format>, 'Label': array([0, 3, 3, ..., 0, 4, 0]), 'Attributes': <2277x2325 sparse matrix of type '<class 'numpy.float64'>'\n",
      "\twith 29157 stored elements in Compressed Sparse Column format>}\n",
      "{'Network': <7600x7600 sparse array of type '<class 'numpy.intc'>'\n",
      "\twith 53411 stored elements in Compressed Sparse Column format>, 'Label': array([3, 3, 3, ..., 2, 1, 3]), 'Attributes': <7600x932 sparse matrix of type '<class 'numpy.float64'>'\n",
      "\twith 40977 stored elements in Compressed Sparse Column format>}\n",
      "{'Network': <5201x5201 sparse array of type '<class 'numpy.intc'>'\n",
      "\twith 396846 stored elements in Compressed Sparse Column format>, 'Label': array([1, 3, 0, ..., 0, 1, 1]), 'Attributes': <5201x2089 sparse matrix of type '<class 'numpy.float64'>'\n",
      "\twith 93477 stored elements in Compressed Sparse Column format>}\n"
     ]
    }
   ],
   "source": [
    "from preprocessing.dataset import *\n",
    "\n",
    "cora = Cora()\n",
    "flicker = Flickr()\n",
    "blog_catalog = BlogCatalog()\n",
    "cite_seer = Citeseer()\n",
    "pubmed = pubmed()\n",
    "chameleon = chameleon()\n",
    "film = film()\n",
    "squirrel = squirrel()\n",
    "\n",
    "print(cora.get_graph())\n",
    "print(flicker.get_graph())\n",
    "print(blog_catalog.get_graph())\n",
    "print(cite_seer.get_graph())\n",
    "print(pubmed.get_graph())\n",
    "print(chameleon.get_graph())\n",
    "print(film.get_graph())\n",
    "print(squirrel.get_graph())"
   ],
   "metadata": {
    "collapsed": false,
    "ExecuteTime": {
     "start_time": "2023-04-17T01:20:30.479706Z",
     "end_time": "2023-04-17T01:20:33.787563Z"
    }
   }
  },
  {
   "cell_type": "markdown",
   "source": [
    "Section 2 - Data preprocessing"
   ],
   "metadata": {
    "collapsed": false
   }
  },
  {
   "cell_type": "markdown",
   "source": [
    "Section 3 - Model Training"
   ],
   "metadata": {
    "collapsed": false
   }
  },
  {
   "cell_type": "markdown",
   "source": [
    "Section 4 - Selection of Best model"
   ],
   "metadata": {
    "collapsed": false
   }
  },
  {
   "cell_type": "markdown",
   "source": [
    "Section 5 - Link Prediction by best model"
   ],
   "metadata": {
    "collapsed": false
   }
  },
  {
   "cell_type": "markdown",
   "source": [
    "Add list to netBenchmark.py"
   ],
   "metadata": {
    "collapsed": false
   }
  },
  {
   "cell_type": "code",
   "execution_count": 4,
   "outputs": [
    {
     "ename": "AttributeError",
     "evalue": "partially initialized module 'smart_open' has no attribute 'local_file' (most likely due to a circular import)",
     "output_type": "error",
     "traceback": [
      "\u001B[1;31m---------------------------------------------------------------------------\u001B[0m",
      "\u001B[1;31mAttributeError\u001B[0m                            Traceback (most recent call last)",
      "Cell \u001B[1;32mIn[4], line 1\u001B[0m\n\u001B[1;32m----> 1\u001B[0m \u001B[38;5;28;01mfrom\u001B[39;00m \u001B[38;5;21;01mnetBenchmark\u001B[39;00m \u001B[38;5;28;01mimport\u001B[39;00m \u001B[38;5;241m*\u001B[39m\n\u001B[0;32m      2\u001B[0m \u001B[38;5;28;01mfrom\u001B[39;00m \u001B[38;5;21;01mmodel_graphcl\u001B[39;00m \u001B[38;5;28;01mimport\u001B[39;00m \u001B[38;5;241m*\u001B[39m\n\u001B[0;32m      4\u001B[0m modellist\u001B[38;5;241m.\u001B[39mappend(GraphCL)\n",
      "File \u001B[1;32m~\\Desktop\\NetBenchmark\\netBenchmark.py:9\u001B[0m\n\u001B[0;32m      7\u001B[0m \u001B[38;5;28;01mfrom\u001B[39;00m \u001B[38;5;21;01mpreprocessing\u001B[39;00m\u001B[38;5;21;01m.\u001B[39;00m\u001B[38;5;21;01mdataset\u001B[39;00m \u001B[38;5;28;01mimport\u001B[39;00m load_adjacency_matrix\n\u001B[0;32m      8\u001B[0m \u001B[38;5;28;01mfrom\u001B[39;00m \u001B[38;5;21;01mpreprocessing\u001B[39;00m\u001B[38;5;21;01m.\u001B[39;00m\u001B[38;5;21;01mloadCora\u001B[39;00m \u001B[38;5;28;01mimport\u001B[39;00m load_citation\n\u001B[1;32m----> 9\u001B[0m \u001B[38;5;28;01mfrom\u001B[39;00m \u001B[38;5;21;01mmodels\u001B[39;00m\u001B[38;5;21;01m.\u001B[39;00m\u001B[38;5;21;01mFeatWalk\u001B[39;00m \u001B[38;5;28;01mimport\u001B[39;00m featwalk\n\u001B[0;32m     10\u001B[0m \u001B[38;5;28;01mfrom\u001B[39;00m \u001B[38;5;21;01mmodels\u001B[39;00m\u001B[38;5;21;01m.\u001B[39;00m\u001B[38;5;21;01mNetMF\u001B[39;00m \u001B[38;5;28;01mimport\u001B[39;00m netmf\n\u001B[0;32m     11\u001B[0m \u001B[38;5;28;01mfrom\u001B[39;00m \u001B[38;5;21;01mmodels\u001B[39;00m\u001B[38;5;21;01m.\u001B[39;00m\u001B[38;5;21;01mdeepwalk\u001B[39;00m \u001B[38;5;28;01mimport\u001B[39;00m deepwalk\n",
      "File \u001B[1;32m~\\Desktop\\NetBenchmark\\models\\FeatWalk.py:5\u001B[0m\n\u001B[0;32m      3\u001B[0m \u001B[38;5;28;01mfrom\u001B[39;00m \u001B[38;5;21;01msklearn\u001B[39;00m\u001B[38;5;21;01m.\u001B[39;00m\u001B[38;5;21;01mpreprocessing\u001B[39;00m \u001B[38;5;28;01mimport\u001B[39;00m normalize\n\u001B[0;32m      4\u001B[0m \u001B[38;5;28;01mfrom\u001B[39;00m \u001B[38;5;21;01mmath\u001B[39;00m \u001B[38;5;28;01mimport\u001B[39;00m ceil\n\u001B[1;32m----> 5\u001B[0m \u001B[38;5;28;01mfrom\u001B[39;00m \u001B[38;5;21;01mgensim\u001B[39;00m\u001B[38;5;21;01m.\u001B[39;00m\u001B[38;5;21;01mmodels\u001B[39;00m \u001B[38;5;28;01mimport\u001B[39;00m Word2Vec\n\u001B[0;32m      6\u001B[0m \u001B[38;5;28;01mimport\u001B[39;00m \u001B[38;5;21;01mscipy\u001B[39;00m\u001B[38;5;21;01m.\u001B[39;00m\u001B[38;5;21;01msparse\u001B[39;00m \u001B[38;5;28;01mas\u001B[39;00m \u001B[38;5;21;01msp\u001B[39;00m\n\u001B[0;32m      7\u001B[0m \u001B[38;5;28;01mfrom\u001B[39;00m \u001B[38;5;21;01m.\u001B[39;00m\u001B[38;5;21;01mmodel\u001B[39;00m \u001B[38;5;28;01mimport\u001B[39;00m \u001B[38;5;241m*\u001B[39m\n",
      "File \u001B[1;32m~\\.conda\\envs\\NetBenchmark\\lib\\site-packages\\gensim\\__init__.py:5\u001B[0m\n\u001B[0;32m      1\u001B[0m \u001B[38;5;124;03m\"\"\"This package contains interfaces and functionality to compute pair-wise document similarities within a corpus\u001B[39;00m\n\u001B[0;32m      2\u001B[0m \u001B[38;5;124;03mof documents.\u001B[39;00m\n\u001B[0;32m      3\u001B[0m \u001B[38;5;124;03m\"\"\"\u001B[39;00m\n\u001B[1;32m----> 5\u001B[0m \u001B[38;5;28;01mfrom\u001B[39;00m \u001B[38;5;21;01mgensim\u001B[39;00m \u001B[38;5;28;01mimport\u001B[39;00m parsing, corpora, matutils, interfaces, models, similarities, summarization, utils  \u001B[38;5;66;03m# noqa:F401\u001B[39;00m\n\u001B[0;32m      6\u001B[0m \u001B[38;5;28;01mimport\u001B[39;00m \u001B[38;5;21;01mlogging\u001B[39;00m\n\u001B[0;32m      8\u001B[0m __version__ \u001B[38;5;241m=\u001B[39m \u001B[38;5;124m'\u001B[39m\u001B[38;5;124m3.8.3\u001B[39m\u001B[38;5;124m'\u001B[39m\n",
      "File \u001B[1;32m~\\.conda\\envs\\NetBenchmark\\lib\\site-packages\\gensim\\parsing\\__init__.py:4\u001B[0m\n\u001B[0;32m      1\u001B[0m \u001B[38;5;124;03m\"\"\"This package contains functions to preprocess raw text\"\"\"\u001B[39;00m\n\u001B[0;32m      3\u001B[0m \u001B[38;5;28;01mfrom\u001B[39;00m \u001B[38;5;21;01m.\u001B[39;00m\u001B[38;5;21;01mporter\u001B[39;00m \u001B[38;5;28;01mimport\u001B[39;00m PorterStemmer  \u001B[38;5;66;03m# noqa:F401\u001B[39;00m\n\u001B[1;32m----> 4\u001B[0m \u001B[38;5;28;01mfrom\u001B[39;00m \u001B[38;5;21;01m.\u001B[39;00m\u001B[38;5;21;01mpreprocessing\u001B[39;00m \u001B[38;5;28;01mimport\u001B[39;00m (remove_stopwords, strip_punctuation, strip_punctuation2,  \u001B[38;5;66;03m# noqa:F401\u001B[39;00m\n\u001B[0;32m      5\u001B[0m                             strip_tags, strip_short, strip_numeric,\n\u001B[0;32m      6\u001B[0m                             strip_non_alphanum, strip_multiple_whitespaces,\n\u001B[0;32m      7\u001B[0m                             split_alphanum, stem_text, preprocess_string,\n\u001B[0;32m      8\u001B[0m                             preprocess_documents, read_file, read_files)\n",
      "File \u001B[1;32m~\\.conda\\envs\\NetBenchmark\\lib\\site-packages\\gensim\\parsing\\preprocessing.py:42\u001B[0m\n\u001B[0;32m     39\u001B[0m \u001B[38;5;28;01mimport\u001B[39;00m \u001B[38;5;21;01mstring\u001B[39;00m\n\u001B[0;32m     40\u001B[0m \u001B[38;5;28;01mimport\u001B[39;00m \u001B[38;5;21;01mglob\u001B[39;00m\n\u001B[1;32m---> 42\u001B[0m \u001B[38;5;28;01mfrom\u001B[39;00m \u001B[38;5;21;01mgensim\u001B[39;00m \u001B[38;5;28;01mimport\u001B[39;00m utils\n\u001B[0;32m     43\u001B[0m \u001B[38;5;28;01mfrom\u001B[39;00m \u001B[38;5;21;01mgensim\u001B[39;00m\u001B[38;5;21;01m.\u001B[39;00m\u001B[38;5;21;01mparsing\u001B[39;00m\u001B[38;5;21;01m.\u001B[39;00m\u001B[38;5;21;01mporter\u001B[39;00m \u001B[38;5;28;01mimport\u001B[39;00m PorterStemmer\n\u001B[0;32m     46\u001B[0m STOPWORDS \u001B[38;5;241m=\u001B[39m \u001B[38;5;28mfrozenset\u001B[39m([\n\u001B[0;32m     47\u001B[0m     \u001B[38;5;124m'\u001B[39m\u001B[38;5;124mall\u001B[39m\u001B[38;5;124m'\u001B[39m, \u001B[38;5;124m'\u001B[39m\u001B[38;5;124msix\u001B[39m\u001B[38;5;124m'\u001B[39m, \u001B[38;5;124m'\u001B[39m\u001B[38;5;124mjust\u001B[39m\u001B[38;5;124m'\u001B[39m, \u001B[38;5;124m'\u001B[39m\u001B[38;5;124mless\u001B[39m\u001B[38;5;124m'\u001B[39m, \u001B[38;5;124m'\u001B[39m\u001B[38;5;124mbeing\u001B[39m\u001B[38;5;124m'\u001B[39m, \u001B[38;5;124m'\u001B[39m\u001B[38;5;124mindeed\u001B[39m\u001B[38;5;124m'\u001B[39m, \u001B[38;5;124m'\u001B[39m\u001B[38;5;124mover\u001B[39m\u001B[38;5;124m'\u001B[39m, \u001B[38;5;124m'\u001B[39m\u001B[38;5;124mmove\u001B[39m\u001B[38;5;124m'\u001B[39m, \u001B[38;5;124m'\u001B[39m\u001B[38;5;124manyway\u001B[39m\u001B[38;5;124m'\u001B[39m, \u001B[38;5;124m'\u001B[39m\u001B[38;5;124mfour\u001B[39m\u001B[38;5;124m'\u001B[39m, \u001B[38;5;124m'\u001B[39m\u001B[38;5;124mnot\u001B[39m\u001B[38;5;124m'\u001B[39m, \u001B[38;5;124m'\u001B[39m\u001B[38;5;124mown\u001B[39m\u001B[38;5;124m'\u001B[39m, \u001B[38;5;124m'\u001B[39m\u001B[38;5;124mthrough\u001B[39m\u001B[38;5;124m'\u001B[39m,\n\u001B[0;32m     48\u001B[0m     \u001B[38;5;124m'\u001B[39m\u001B[38;5;124musing\u001B[39m\u001B[38;5;124m'\u001B[39m, \u001B[38;5;124m'\u001B[39m\u001B[38;5;124mfifty\u001B[39m\u001B[38;5;124m'\u001B[39m, \u001B[38;5;124m'\u001B[39m\u001B[38;5;124mwhere\u001B[39m\u001B[38;5;124m'\u001B[39m, \u001B[38;5;124m'\u001B[39m\u001B[38;5;124mmill\u001B[39m\u001B[38;5;124m'\u001B[39m, \u001B[38;5;124m'\u001B[39m\u001B[38;5;124monly\u001B[39m\u001B[38;5;124m'\u001B[39m, \u001B[38;5;124m'\u001B[39m\u001B[38;5;124mfind\u001B[39m\u001B[38;5;124m'\u001B[39m, \u001B[38;5;124m'\u001B[39m\u001B[38;5;124mbefore\u001B[39m\u001B[38;5;124m'\u001B[39m, \u001B[38;5;124m'\u001B[39m\u001B[38;5;124mone\u001B[39m\u001B[38;5;124m'\u001B[39m, \u001B[38;5;124m'\u001B[39m\u001B[38;5;124mwhose\u001B[39m\u001B[38;5;124m'\u001B[39m, \u001B[38;5;124m'\u001B[39m\u001B[38;5;124msystem\u001B[39m\u001B[38;5;124m'\u001B[39m, \u001B[38;5;124m'\u001B[39m\u001B[38;5;124mhow\u001B[39m\u001B[38;5;124m'\u001B[39m, \u001B[38;5;124m'\u001B[39m\u001B[38;5;124msomewhere\u001B[39m\u001B[38;5;124m'\u001B[39m,\n\u001B[1;32m   (...)\u001B[0m\n\u001B[0;32m     74\u001B[0m     \u001B[38;5;124m'\u001B[39m\u001B[38;5;124mmake\u001B[39m\u001B[38;5;124m'\u001B[39m, \u001B[38;5;124m'\u001B[39m\u001B[38;5;124monce\u001B[39m\u001B[38;5;124m'\u001B[39m\n\u001B[0;32m     75\u001B[0m ])\n",
      "File \u001B[1;32m~\\.conda\\envs\\NetBenchmark\\lib\\site-packages\\gensim\\utils.py:45\u001B[0m\n\u001B[0;32m     42\u001B[0m \u001B[38;5;28;01mfrom\u001B[39;00m \u001B[38;5;21;01msix\u001B[39;00m \u001B[38;5;28;01mimport\u001B[39;00m iterkeys, iteritems, itervalues, u, string_types, unichr\n\u001B[0;32m     43\u001B[0m \u001B[38;5;28;01mfrom\u001B[39;00m \u001B[38;5;21;01msix\u001B[39;00m\u001B[38;5;21;01m.\u001B[39;00m\u001B[38;5;21;01mmoves\u001B[39;00m \u001B[38;5;28;01mimport\u001B[39;00m \u001B[38;5;28mrange\u001B[39m\n\u001B[1;32m---> 45\u001B[0m \u001B[38;5;28;01mfrom\u001B[39;00m \u001B[38;5;21;01msmart_open\u001B[39;00m \u001B[38;5;28;01mimport\u001B[39;00m \u001B[38;5;28mopen\u001B[39m\n\u001B[0;32m     47\u001B[0m \u001B[38;5;28;01mfrom\u001B[39;00m \u001B[38;5;21;01mmultiprocessing\u001B[39;00m \u001B[38;5;28;01mimport\u001B[39;00m cpu_count\n\u001B[0;32m     49\u001B[0m \u001B[38;5;28;01mif\u001B[39;00m sys\u001B[38;5;241m.\u001B[39mversion_info[\u001B[38;5;241m0\u001B[39m] \u001B[38;5;241m>\u001B[39m\u001B[38;5;241m=\u001B[39m \u001B[38;5;241m3\u001B[39m:\n",
      "File \u001B[1;32m~\\.conda\\envs\\NetBenchmark\\lib\\site-packages\\smart_open\\__init__.py:34\u001B[0m\n\u001B[0;32m     31\u001B[0m logger\u001B[38;5;241m.\u001B[39maddHandler(logging\u001B[38;5;241m.\u001B[39mNullHandler())\n\u001B[0;32m     33\u001B[0m \u001B[38;5;28;01mfrom\u001B[39;00m \u001B[38;5;21;01msmart_open\u001B[39;00m \u001B[38;5;28;01mimport\u001B[39;00m version  \u001B[38;5;66;03m# noqa: E402\u001B[39;00m\n\u001B[1;32m---> 34\u001B[0m \u001B[38;5;28;01mfrom\u001B[39;00m \u001B[38;5;21;01m.\u001B[39;00m\u001B[38;5;21;01msmart_open_lib\u001B[39;00m \u001B[38;5;28;01mimport\u001B[39;00m \u001B[38;5;28mopen\u001B[39m, parse_uri, smart_open, register_compressor  \u001B[38;5;66;03m# noqa: E402\u001B[39;00m\n\u001B[0;32m     36\u001B[0m _WARNING \u001B[38;5;241m=\u001B[39m \u001B[38;5;124m\"\"\"\u001B[39m\u001B[38;5;124msmart_open.s3_iter_bucket is deprecated and will stop functioning\u001B[39m\n\u001B[0;32m     37\u001B[0m \u001B[38;5;124min a future version. Please import iter_bucket from the smart_open.s3 module instead:\u001B[39m\n\u001B[0;32m     38\u001B[0m \n\u001B[0;32m     39\u001B[0m \u001B[38;5;124m    from smart_open.s3 import iter_bucket as s3_iter_bucket\u001B[39m\n\u001B[0;32m     40\u001B[0m \n\u001B[0;32m     41\u001B[0m \u001B[38;5;124m\"\"\"\u001B[39m\n\u001B[0;32m     42\u001B[0m _WARNED \u001B[38;5;241m=\u001B[39m \u001B[38;5;28;01mFalse\u001B[39;00m\n",
      "File \u001B[1;32m~\\.conda\\envs\\NetBenchmark\\lib\\site-packages\\smart_open\\smart_open_lib.py:35\u001B[0m\n\u001B[0;32m     32\u001B[0m \u001B[38;5;28;01mimport\u001B[39;00m \u001B[38;5;21;01msmart_open\u001B[39;00m\u001B[38;5;21;01m.\u001B[39;00m\u001B[38;5;21;01mlocal_file\u001B[39;00m \u001B[38;5;28;01mas\u001B[39;00m \u001B[38;5;21;01mso_file\u001B[39;00m\n\u001B[0;32m     33\u001B[0m \u001B[38;5;28;01mimport\u001B[39;00m \u001B[38;5;21;01msmart_open\u001B[39;00m\u001B[38;5;21;01m.\u001B[39;00m\u001B[38;5;21;01mcompression\u001B[39;00m \u001B[38;5;28;01mas\u001B[39;00m \u001B[38;5;21;01mso_compression\u001B[39;00m\n\u001B[1;32m---> 35\u001B[0m \u001B[38;5;28;01mfrom\u001B[39;00m \u001B[38;5;21;01msmart_open\u001B[39;00m \u001B[38;5;28;01mimport\u001B[39;00m doctools\n\u001B[0;32m     36\u001B[0m \u001B[38;5;28;01mfrom\u001B[39;00m \u001B[38;5;21;01msmart_open\u001B[39;00m \u001B[38;5;28;01mimport\u001B[39;00m transport\n\u001B[0;32m     38\u001B[0m \u001B[38;5;66;03m#\u001B[39;00m\n\u001B[0;32m     39\u001B[0m \u001B[38;5;66;03m# For backwards compatibility and keeping old unit tests happy.\u001B[39;00m\n\u001B[0;32m     40\u001B[0m \u001B[38;5;66;03m#\u001B[39;00m\n",
      "File \u001B[1;32m~\\.conda\\envs\\NetBenchmark\\lib\\site-packages\\smart_open\\doctools.py:21\u001B[0m\n\u001B[0;32m     18\u001B[0m \u001B[38;5;28;01mimport\u001B[39;00m \u001B[38;5;21;01mre\u001B[39;00m\n\u001B[0;32m     20\u001B[0m \u001B[38;5;28;01mfrom\u001B[39;00m \u001B[38;5;21;01m.\u001B[39;00m \u001B[38;5;28;01mimport\u001B[39;00m compression\n\u001B[1;32m---> 21\u001B[0m \u001B[38;5;28;01mfrom\u001B[39;00m \u001B[38;5;21;01m.\u001B[39;00m \u001B[38;5;28;01mimport\u001B[39;00m transport\n\u001B[0;32m     23\u001B[0m PLACEHOLDER \u001B[38;5;241m=\u001B[39m \u001B[38;5;124m'\u001B[39m\u001B[38;5;124m    smart_open/doctools.py magic goes here\u001B[39m\u001B[38;5;124m'\u001B[39m\n\u001B[0;32m     26\u001B[0m \u001B[38;5;28;01mdef\u001B[39;00m \u001B[38;5;21mextract_kwargs\u001B[39m(docstring):\n",
      "File \u001B[1;32m~\\.conda\\envs\\NetBenchmark\\lib\\site-packages\\smart_open\\transport.py:22\u001B[0m\n\u001B[0;32m     18\u001B[0m logger \u001B[38;5;241m=\u001B[39m logging\u001B[38;5;241m.\u001B[39mgetLogger(\u001B[38;5;18m__name__\u001B[39m)\n\u001B[0;32m     20\u001B[0m NO_SCHEME \u001B[38;5;241m=\u001B[39m \u001B[38;5;124m'\u001B[39m\u001B[38;5;124m'\u001B[39m\n\u001B[1;32m---> 22\u001B[0m _REGISTRY \u001B[38;5;241m=\u001B[39m {NO_SCHEME: \u001B[43msmart_open\u001B[49m\u001B[38;5;241;43m.\u001B[39;49m\u001B[43mlocal_file\u001B[49m}\n\u001B[0;32m     23\u001B[0m _ERRORS \u001B[38;5;241m=\u001B[39m {}\n\u001B[0;32m     24\u001B[0m _MISSING_DEPS_ERROR \u001B[38;5;241m=\u001B[39m \u001B[38;5;124m\"\"\"\u001B[39m\u001B[38;5;124mYou are trying to use the \u001B[39m\u001B[38;5;132;01m%(module)s\u001B[39;00m\u001B[38;5;124m functionality of smart_open\u001B[39m\n\u001B[0;32m     25\u001B[0m \u001B[38;5;124mbut you do not have the correct \u001B[39m\u001B[38;5;132;01m%(module)s\u001B[39;00m\u001B[38;5;124m dependencies installed. Try:\u001B[39m\n\u001B[0;32m     26\u001B[0m \n\u001B[0;32m     27\u001B[0m \u001B[38;5;124m    pip install smart_open[\u001B[39m\u001B[38;5;132;01m%(module)s\u001B[39;00m\u001B[38;5;124m]\u001B[39m\n\u001B[0;32m     28\u001B[0m \n\u001B[0;32m     29\u001B[0m \u001B[38;5;124m\"\"\"\u001B[39m\n",
      "\u001B[1;31mAttributeError\u001B[0m: partially initialized module 'smart_open' has no attribute 'local_file' (most likely due to a circular import)"
     ]
    }
   ],
   "source": [
    "from netBenchmark import *\n",
    "from model_graphcl import *\n",
    "\n",
    "modellist.append(GraphCL)\n",
    "print(modellist)"
   ],
   "metadata": {
    "collapsed": false
   }
  },
  {
   "cell_type": "code",
   "execution_count": null,
   "outputs": [],
   "source": [
    "from experiment import run_experiment\n",
    "import subprocess\n",
    "\n",
    "# Define the experiment configuration\n",
    "experiment_config = {\n",
    "    'model': \"GraphCL\",\n",
    "    'dataset': \"all\",\n",
    "    'task': 'node_classification',\n",
    "    'eval_metric': 'f1_micro',\n",
    "    'num_runs': 3,\n",
    "    'random_seed': 123\n",
    "}\n",
    "\n",
    "# Check the training parameters\n",
    "subprocess.call(['python', 'netBenchmark.py', '--method=all', '--dataset=all',\n",
    "                 '--task_method=task1', '--cuda_device=1'])\n",
    "\n",
    "# Run the experiment\n",
    "results = run_experiment(experiment_config)"
   ],
   "metadata": {
    "collapsed": false
   }
  },
  {
   "cell_type": "code",
   "execution_count": null,
   "outputs": [],
   "source": [],
   "metadata": {
    "collapsed": false
   }
  }
 ],
 "metadata": {
  "kernelspec": {
   "display_name": "Python 3",
   "language": "python",
   "name": "python3"
  },
  "language_info": {
   "codemirror_mode": {
    "name": "ipython",
    "version": 2
   },
   "file_extension": ".py",
   "mimetype": "text/x-python",
   "name": "python",
   "nbconvert_exporter": "python",
   "pygments_lexer": "ipython2",
   "version": "2.7.6"
  }
 },
 "nbformat": 4,
 "nbformat_minor": 0
}
